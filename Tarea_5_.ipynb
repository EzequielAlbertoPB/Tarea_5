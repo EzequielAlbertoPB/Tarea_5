{
  "nbformat": 4,
  "nbformat_minor": 0,
  "metadata": {
    "colab": {
      "name": "ADT_Lo_visto_en_clase.ipynb",
      "provenance": [],
      "collapsed_sections": []
    },
    "kernelspec": {
      "name": "python3",
      "display_name": "Python 3"
    },
    "language_info": {
      "name": "python"
    }
  },
  "cells": [
    {
      "cell_type": "code",
      "metadata": {
        "colab": {
          "base_uri": "https://localhost:8080/"
        },
        "id": "ps1QVTLvls0e",
        "outputId": "4ff20063-3ace-442a-9fbc-247cf6246d38"
      },
      "source": [
        "!cat junio.dat"
      ],
      "execution_count": 1,
      "outputs": [
        {
          "output_type": "stream",
          "name": "stdout",
          "text": [
            "numero de trabajador, nombres, paterno, materno, horas extra, sueldo base, año de ingreso\r\n",
            "2345,CARLOS,PEREZ,CASTILLO,0,9850,2017\r\n",
            "5754,ANGEL,GOMEZ,GARRIDO,1,9850,2020\r\n",
            "5345,JESUS,MARTIN,SANTOS,2,9850,2016\r\n",
            "3267,DAVID,JIMENEZ,LOZANO,2,9850,2017\r\n",
            "8765,PEDRO,RUIZ,GUERRERO,2,9850,2017\r\n",
            "5454,DANIEL,HERNANDEZ,CANO,3,9850,2018\r\n",
            "3456,ALEJANDRO,DIAZ,PRIETO,2,9850,2018\r\n",
            "3445,MARIA,MORENO,MENDEZ,1,9850,2018\r\n",
            "9088,ALBERTO,MU�OZ,CRUZ,1,9850,2017\r\n",
            "8877,RAFAEL,ALVAREZ,FLORES,2,9850,2017\r\n",
            "6767,FERNANDO,ROMERO,HERRERA,4,9850,2019\r\n",
            "5654,PABLO,ALONSO,GALLEGO,1,9850,2019\r\n",
            "4323,JORGE,GUTIERREZ,MARQUEZ,2,9850,2020\r\n",
            "2232,RAMON,NAVARRO,LEON,1,9850,2016"
          ]
        }
      ]
    },
    {
      "cell_type": "code",
      "metadata": {
        "colab": {
          "base_uri": "https://localhost:8080/"
        },
        "id": "jMTbkpe2m8WJ",
        "outputId": "fb3eea24-a3fb-45c3-9e47-0e01ff8f98ba"
      },
      "source": [
        "archivo = open('junio.dat', 'rt', encoding='latin-1')\n",
        "print(archivo.read() )"
      ],
      "execution_count": 2,
      "outputs": [
        {
          "output_type": "stream",
          "name": "stdout",
          "text": [
            "numero de trabajador, nombres, paterno, materno, horas extra, sueldo base, aÃ±o de ingreso\n",
            "2345,CARLOS,PEREZ,CASTILLO,0,9850,2017\n",
            "5754,ANGEL,GOMEZ,GARRIDO,1,9850,2020\n",
            "5345,JESUS,MARTIN,SANTOS,2,9850,2016\n",
            "3267,DAVID,JIMENEZ,LOZANO,2,9850,2017\n",
            "8765,PEDRO,RUIZ,GUERRERO,2,9850,2017\n",
            "5454,DANIEL,HERNANDEZ,CANO,3,9850,2018\n",
            "3456,ALEJANDRO,DIAZ,PRIETO,2,9850,2018\n",
            "3445,MARIA,MORENO,MENDEZ,1,9850,2018\n",
            "9088,ALBERTO,MUï¿½OZ,CRUZ,1,9850,2017\n",
            "8877,RAFAEL,ALVAREZ,FLORES,2,9850,2017\n",
            "6767,FERNANDO,ROMERO,HERRERA,4,9850,2019\n",
            "5654,PABLO,ALONSO,GALLEGO,1,9850,2019\n",
            "4323,JORGE,GUTIERREZ,MARQUEZ,2,9850,2020\n",
            "2232,RAMON,NAVARRO,LEON,1,9850,2016\n"
          ]
        }
      ]
    },
    {
      "cell_type": "code",
      "metadata": {
        "id": "SVAv3g9kaVFb"
      },
      "source": [
        "class Array:\n",
        "  def __init__( self , tam ):\n",
        "    self.__tamanio = tam\n",
        "    self.__data = [ 0 for x in range(self.__tamanio) ]\n",
        "\n",
        "  def to_string( self ):\n",
        "    info = \"\"\n",
        "    for dato in self.__data:\n",
        "      info = info + str(dato) +\"|\"\n",
        "      return info\n",
        "\n",
        "  def get_item( self , index ):\n",
        "    return self.__data[index]\n",
        "\n",
        "  def get_length( self ):\n",
        "    return len( self.__data )\n",
        "\n",
        "  def set_item( self , dato , index):\n",
        "    # hace falta revisar limites\n",
        "    if index >= 0 and index < self.get_length():\n",
        "      self.__data[index] = dato\n",
        "    else:\n",
        "      print(\"Error: indice fuera de rango\")\n",
        "\n",
        "  def clear( self , dato ):\n",
        "    self.__data = [ dato for x in range(self.__tamanio) ]\n",
        "\n"
      ],
      "execution_count": 3,
      "outputs": []
    },
    {
      "cell_type": "code",
      "metadata": {
        "id": "ypWxtr6Kn4wt",
        "colab": {
          "base_uri": "https://localhost:8080/"
        },
        "outputId": "b410ceed-6fed-4e2f-c8b9-6dae8bd946a5"
      },
      "source": [
        "class Trabajador:\n",
        "  def __init__( self, nt, nom, pat, mat, he, sb, ai ):\n",
        "    self.__numero_trabajador = nt\n",
        "    self.__nombre = nom\n",
        "    self.__paterno = pat\n",
        "    self.__materno = mat\n",
        "    self.__horas_extras = he\n",
        "    self.__sueldo_base = sb\n",
        "    self.__anio_ingreso = ai\n",
        "\n",
        "  def set_numero_trabajador( self , nt ):\n",
        "    self.__numero_trabajador = nt\n",
        "  def get_numero_trabajador( self ):\n",
        "    return self.__numero_trabajador\n",
        "\n",
        "  def set_nombre( self , nom ):\n",
        "    self.__nombre = nom\n",
        "  def get_nombre( self ):\n",
        "    return self.__nombre\n",
        "\n",
        "  def set_paterno( self , pat ):\n",
        "    self.__paterno = pat\n",
        "  def get_paterno( self ):\n",
        "    return self.__paterno\n",
        "\n",
        "  def set_materno( self , mat ):\n",
        "    self.__materno = mat\n",
        "  def get_materno( self ):\n",
        "    return self.__materno\n",
        "\n",
        "  def set_horas_extras( self , he ):\n",
        "    self.__horas_extras = he\n",
        "  def get_horas_extra( self ):\n",
        "    return self.__horas_extras\n",
        "\n",
        "  def set_sueldo_base( self , sb ):\n",
        "    self.__sueldo_base = sb\n",
        "  def get_sueldo_base( self ):\n",
        "    return self.__sueldo_base\n",
        "\n",
        "  def set_anio_ingreso( self , ai ):\n",
        "    self.__anio_ingreso = ai\n",
        "  def get_anio_ingreso( self ):\n",
        "    return self.__anio_ingreso\n",
        "\n",
        "\n",
        "  def calcular_sueldo_mensual( self ):\n",
        "    anios = 2021 - self.get_anio_ingreso()\n",
        "    sueldo = self.get_sueldo_base()\n",
        "    sueldo += self.get_horas_extra() * 276.5\n",
        "    sueldo = sueldo + ( sueldo * anios * 0.03 )\n",
        "    return sueldo\n",
        "\n",
        "  def to_string( self ):\n",
        "    return 'Nombre: ' + self.__nombre + ' Sueldo: $' + str( self.calcular_sueldo_mensual() )\n",
        "\n",
        "  def calcular_antiguedad( self ):\n",
        "    return 2021 - self.get_anio_ingreso()\n",
        "\n",
        "emp = Trabajador(2345,'Carlos','Perez','Castillo',1,9850,2017)\n",
        "print(emp.get_sueldo_base())\n",
        "print(emp.get_horas_extra() )\n",
        "print(emp.calcular_antiguedad() )\n",
        "print(emp.to_string() )\n"
      ],
      "execution_count": 4,
      "outputs": [
        {
          "output_type": "stream",
          "name": "stdout",
          "text": [
            "9850\n",
            "1\n",
            "4\n",
            "Nombre: Carlos Sueldo: $11341.68\n"
          ]
        }
      ]
    },
    {
      "cell_type": "code",
      "metadata": {
        "colab": {
          "base_uri": "https://localhost:8080/"
        },
        "id": "mQtO_pt6estk",
        "outputId": "b780fdc0-2f33-419f-db7b-c9789a4b13ca"
      },
      "source": [
        "class NominaADT:\n",
        "  def __init__( self , ruta_archivo ):\n",
        "    archivo = open( ruta_archivo , 'rt' , encoding='latin-1' )\n",
        "    empleados = archivo.readlines()\n",
        "    del empleados[0]\n",
        "\n",
        "    for index in range( len( empleados ) ):\n",
        "      empleados[index] = empleados[index].strip().split(',')\n",
        "    \n",
        "    self.__data = Array( len( empleados ) )\n",
        "    cont = 0\n",
        "    \n",
        "    for emp in empleados:\n",
        "      tmp = Trabajador( int(emp[0]), emp[1], emp[2], emp[3], int(emp[4]), int(emp[5]), int(emp[6]) )  \n",
        "      self.__data.set_item( tmp , cont)\n",
        "      cont += 1\n",
        "\n",
        "  def buscar_mas_antiguo( self ):\n",
        "     archivo = open( 'junio.dat' , 'rt' , encoding='latin-1' )\n",
        "     empleados = archivo.readlines()\n",
        "     del empleados[0]\n",
        "     for index in range( len( empleados ) ):\n",
        "      empleados[index] = empleados[index].strip().split(',')\n",
        "     o=2021\n",
        "     for emp in empleados:\n",
        "      tmp = Trabajador( int(emp[0]), emp[1], emp[2], emp[3], int(emp[4]), int(emp[5]), int(emp[6]) )  \n",
        "      r=(int(emp[6]))\n",
        "      if r<o:\n",
        "        o = r\n",
        "     print(\"\\n-.-.-.-.-.El trabajador mas longevo es:-.-.-..-.-.-.-\")\n",
        "     for emp in empleados:\n",
        "      tmp = Trabajador( int(emp[0]), emp[1], emp[2], emp[3], int(emp[4]), int(emp[5]), int(emp[6]) )\n",
        "      if int(emp[6])==o:\n",
        "        print(\"Numero de empleado: {0}, Nombre: {1}, Paterno: {2}, Materno: {3}, Horas ex.: {4}, Sueldo Base: {5}, Ingreso: {6}\".format(emp[0], emp[1], emp[2], emp[3], emp[4], emp[5], emp[6]))\n",
        "\n",
        "  def Buscar_menor_antiguedad( self ):\n",
        "    archivo = open( 'junio.dat' , 'rt' , encoding='latin-1' )\n",
        "    empleados = archivo.readlines()\n",
        "    del empleados[0]\n",
        "    for index in range( len( empleados ) ):\n",
        "      empleados[index] = empleados[index].strip().split(',')\n",
        "    c=0\n",
        "    for emp in empleados:\n",
        "      tmp = Trabajador( int(emp[0]), emp[1], emp[2], emp[3], int(emp[4]), int(emp[5]), int(emp[6]) )\n",
        "      r=(int(emp[6]))\n",
        "      if r>c:\n",
        "        c = r\n",
        "    print(\"\\n-.-.-.-.-.El trabajador mas nuevo es:-.-.-..-.-.-.-\")\n",
        "    for emp in empleados:\n",
        "      tmp = Trabajador( int(emp[0]), emp[1], emp[2], emp[3], int(emp[4]), int(emp[5]), int(emp[6]) )\n",
        "      if int(emp[6])==c:\n",
        "        print(\"Numero de empleado: {0}, Nombre: {1}, Paterno: {2}, Materno: {3}, Horas ex.: {4}, Sueldo Base: {5}, Ingreso: {6}\".format(emp[0], emp[1], emp[2], emp[3], emp[4], emp[5], emp[6]))\n",
        "\n",
        "\n",
        "  def calcular_sueldos( self ):\n",
        "    for index in range( self.__data.get_length() ):\n",
        "      print( self.__data.get_item(index).to_string() )\n",
        "      \n",
        "\n",
        "ejemplo = NominaADT('junio.dat')\n",
        "ejemplo.calcular_sueldos()\n",
        "ejemplo.buscar_mas_antiguo()\n",
        "ejemplo.Buscar_menor_antiguedad()"
      ],
      "execution_count": 13,
      "outputs": [
        {
          "output_type": "stream",
          "name": "stdout",
          "text": [
            "Nombre: CARLOS Sueldo: $11032.0\n",
            "Nombre: ANGEL Sueldo: $10430.295\n",
            "Nombre: JESUS Sueldo: $11963.45\n",
            "Nombre: DAVID Sueldo: $11651.36\n",
            "Nombre: PEDRO Sueldo: $11651.36\n",
            "Nombre: DANIEL Sueldo: $11640.655\n",
            "Nombre: ALEJANDRO Sueldo: $11339.27\n",
            "Nombre: MARIA Sueldo: $11037.885\n",
            "Nombre: ALBERTO Sueldo: $11341.68\n",
            "Nombre: RAFAEL Sueldo: $11651.36\n",
            "Nombre: FERNANDO Sueldo: $11613.36\n",
            "Nombre: PABLO Sueldo: $10734.09\n",
            "Nombre: JORGE Sueldo: $10715.09\n",
            "Nombre: RAMON Sueldo: $11645.475\n",
            "\n",
            "-.-.-.-.-.El trabajador mas longevo es:-.-.-..-.-.-.-\n",
            "Numero de empleado: 5345, Nombre: JESUS, Paterno: MARTIN, Materno: SANTOS, Horas ex.: 2, Sueldo Base: 9850, Ingreso: 2016\n",
            "Numero de empleado: 2232, Nombre: RAMON, Paterno: NAVARRO, Materno: LEON, Horas ex.: 1, Sueldo Base: 9850, Ingreso: 2016\n",
            "\n",
            "-.-.-.-.-.El trabajador mas nuevo es:-.-.-..-.-.-.-\n",
            "Numero de empleado: 5754, Nombre: ANGEL, Paterno: GOMEZ, Materno: GARRIDO, Horas ex.: 1, Sueldo Base: 9850, Ingreso: 2020\n",
            "Numero de empleado: 4323, Nombre: JORGE, Paterno: GUTIERREZ, Materno: MARQUEZ, Horas ex.: 2, Sueldo Base: 9850, Ingreso: 2020\n"
          ]
        }
      ]
    }
  ]
}