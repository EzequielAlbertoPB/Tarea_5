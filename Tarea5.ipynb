{
  "nbformat": 4,
  "nbformat_minor": 0,
  "metadata": {
    "colab": {
      "name": "ADT_Lo_visto_en_clase.ipynb",
      "provenance": []
    },
    "kernelspec": {
      "name": "python3",
      "display_name": "Python 3"
    },
    "language_info": {
      "name": "python"
    }
  },
  "cells": [
    {
      "cell_type": "code",
      "metadata": {
        "colab": {
          "base_uri": "https://localhost:8080/"
        },
        "id": "ps1QVTLvls0e",
        "outputId": "3838e5d0-30ff-4903-837f-b2416f4bf1b0"
      },
      "source": [
        "!cat junio.dat"
      ],
      "execution_count": null,
      "outputs": [
        {
          "output_type": "stream",
          "name": "stdout",
          "text": [
            "numero de trabajador, nombres, paterno, materno, horas extra, sueldo base, año de ingreso\r\n",
            "2345,CARLOS,PEREZ,CASTILLO,0,9850,2017\r\n",
            "5754,ANGEL,GOMEZ,GARRIDO,1,9850,2020\r\n",
            "5345,JESUS,MARTIN,SANTOS,2,9850,2016\r\n",
            "3267,DAVID,JIMENEZ,LOZANO,2,9850,2017\r\n",
            "8765,PEDRO,RUIZ,GUERRERO,2,9850,2017\r\n",
            "5454,DANIEL,HERNANDEZ,CANO,3,9850,2018\r\n",
            "3456,ALEJANDRO,DIAZ,PRIETO,2,9850,2018\r\n",
            "3445,MARIA,MORENO,MENDEZ,1,9850,2018\r\n",
            "9088,ALBERTO,MU�OZ,CRUZ,1,9850,2017\r\n",
            "8877,RAFAEL,ALVAREZ,FLORES,2,9850,2017\r\n",
            "6767,FERNANDO,ROMERO,HERRERA,4,9850,2019\r\n",
            "5654,PABLO,ALONSO,GALLEGO,1,9850,2019\r\n",
            "4323,JORGE,GUTIERREZ,MARQUEZ,2,9850,2020\r\n",
            "2232,RAMON,NAVARRO,LEON,1,9850,2016"
          ]
        }
      ]
    },
    {
      "cell_type": "code",
      "metadata": {
        "colab": {
          "base_uri": "https://localhost:8080/"
        },
        "id": "jMTbkpe2m8WJ",
        "outputId": "a6d9e066-5f57-46b0-c8e9-a070e87f3ff4"
      },
      "source": [
        "archivo = open('junio.dat', 'rt', encoding='latin-1')\n",
        "print(archivo.read() )"
      ],
      "execution_count": 1,
      "outputs": [
        {
          "output_type": "stream",
          "name": "stdout",
          "text": [
            "numero de trabajador, nombres, paterno, materno, horas extra, sueldo base, aÃ±o de ingreso\n",
            "2345,CARLOS,PEREZ,CASTILLO,0,9850,2017\n",
            "5754,ANGEL,GOMEZ,GARRIDO,1,9850,2020\n",
            "5345,JESUS,MARTIN,SANTOS,2,9850,2016\n",
            "3267,DAVID,JIMENEZ,LOZANO,2,9850,2017\n",
            "8765,PEDRO,RUIZ,GUERRERO,2,9850,2017\n",
            "5454,DANIEL,HERNANDEZ,CANO,3,9850,2018\n",
            "3456,ALEJANDRO,DIAZ,PRIETO,2,9850,2018\n",
            "3445,MARIA,MORENO,MENDEZ,1,9850,2018\n",
            "9088,ALBERTO,MUOZ,CRUZ,1,9850,2017\n",
            "8877,RAFAEL,ALVAREZ,FLORES,2,9850,2017\n",
            "6767,FERNANDO,ROMERO,HERRERA,4,9850,2019\n",
            "5654,PABLO,ALONSO,GALLEGO,1,9850,2019\n",
            "4323,JORGE,GUTIERREZ,MARQUEZ,2,9850,2020\n",
            "2232,RAMON,NAVARRO,LEON,1,9850,2016\n"
          ]
        }
      ]
    },
    {
      "cell_type": "code",
      "metadata": {
        "id": "ypWxtr6Kn4wt"
      },
      "source": [
        "class Trabajador:\n",
        "  def __init__( self, nt, nom, pat, mat, he, sb, ai ):\n",
        "    self.__numero_trabajador = nt\n",
        "    self.__nombre = nom\n",
        "    self.__paterno = pat\n",
        "    self.__materno = mat\n",
        "    self.__horas_extras = he\n",
        "    self.__seldo_base = sb\n",
        "    self.__ano_ingreso = ai\n",
        "\n",
        "  def set_numero_trabajador( self , nt ):\n",
        "    self.__numero_trabajador = nt\n",
        "  def get_numero_trabajador( self , nt ):\n",
        "    self.__numero_trabajador = nt\n",
        "\n",
        "  def set_nombre( self , nom ):\n",
        "    self.__nombre = nom\n",
        "  def get_nombre( self , nom ):\n",
        "    self.__nombre = nom\n",
        "\n",
        "  def set_paterno( self , pat ):\n",
        "    self.__paterno = pat\n",
        "  def get_paterno( self , pat):\n",
        "    self.__paterno = pat\n",
        "\n",
        "  def set_materno( self , mat ):\n",
        "    self.__materno = mat\n",
        "  def get_materno( self , mat ):\n",
        "    self.__materno = mat\n",
        "\n",
        "  def set_horas_extras( self , he):\n",
        "    self.__horas_extras = he\n",
        "  def get_horas_extras( self , he ):\n",
        "    self.__horas_extras = he\n",
        "\n",
        "  def set_saldo_base( self , sb ):\n",
        "    self.__seldo_base = sb\n",
        "  def get_saldo_base( self , sb ):\n",
        "    self.__seldo_base = sb\n",
        "\n",
        "  def set_ano_ingreso( self , ai ):\n",
        "    self.__ano_ingreso = ai\n",
        "  def get_ano_ingreso( self , ai ):\n",
        "    self.__ano_ingreso = ai"
      ],
      "execution_count": 5,
      "outputs": []
    },
    {
      "cell_type": "code",
      "metadata": {
        "colab": {
          "base_uri": "https://localhost:8080/"
        },
        "id": "dqnc11xjqGxk",
        "outputId": "3f992805-d756-4ed2-b6da-226f3ea450a3"
      },
      "source": [
        "import csv\n",
        "\n",
        "print(\"----------------------------------------------------------------------------------------------------\")\n",
        "print(\"Intente hacerlo con Array (POO) y no me salió, pero quise almenos entregarlo usando otra forma \")\n",
        "print(\"----------------------------------------------------------------------------------------------------\\n\")\n",
        "\n",
        "lista = [0, 0]\n",
        "c = 0\n",
        "o = 2021\n",
        "\n",
        "with open('junio.dat') as n:\n",
        "  reader = csv.reader(n)\n",
        "  for row in reader:\n",
        "    print(\"Numero de empleado: {0}, Nombre: {1}, Paterno: {2}, Materno: {3}, Horas ex.: {4}, Sueldo Base: {5}, Ingreso: {6}\".format(row[0], row[1], row[2], row[3], row[4], row[5], row[6]))\n",
        "    print(\"Sueldo Resultante: \", int(row[5])+((2021-int(row[6]))*(int(row[5])*0.03)))\n",
        "    print(\"\")\n",
        "    r=(int(row[6]))\n",
        "    if r>c:\n",
        "      c=r\n",
        "    if r<o:\n",
        "      o = r\n",
        "\n",
        "with open('junio.dat') as n:     \n",
        "  reader = csv.reader(n)\n",
        "  print(\"\\n-.-.-.-.-.El trabajador mas nuevo es:-.-.-..-.-.-.-\")\n",
        "  for row in reader:\n",
        "    if int(row[6])==c:\n",
        "      print(\"Numero de empleado: {0}, Nombre: {1}, Paterno: {2}, Materno: {3}, Horas ex.: {4}, Sueldo Base: {5}, Ingreso: {6}\".format(row[0], row[1], row[2], row[3], row[4], row[5], row[6]))\n",
        "\n",
        "with open('junio.dat') as n:     \n",
        "  reader = csv.reader(n)\n",
        "  print(\"\\n-.-.-.-.-.El trabajador mas longevo es:-.-.-..-.-.-.-\")\n",
        "  for row in reader:\n",
        "    if int(row[6])==o:\n",
        "      print(\"Numero de empleado: {0}, Nombre: {1}, Paterno: {2}, Materno: {3}, Horas ex.: {4}, Sueldo Base: {5}, Ingreso: {6}\".format(row[0], row[1], row[2], row[3], row[4], row[5], row[6]))"
      ],
      "execution_count": 59,
      "outputs": [
        {
          "output_type": "stream",
          "name": "stdout",
          "text": [
            "----------------------------------------------------------------------------------------------------\n",
            "Intente hacerlo con Array (POO) y no me salió, pero quise almenos entregarlo usando otra forma \n",
            "----------------------------------------------------------------------------------------------------\n",
            "\n",
            "Numero de empleado: 2345, Nombre: CARLOS, Paterno: PEREZ, Materno: CASTILLO, Horas ex.: 0, Sueldo Base: 9850, Ingreso: 2017\n",
            "Sueldo Resultante:  11032.0\n",
            "\n",
            "Numero de empleado: 5754, Nombre: ANGEL, Paterno: GOMEZ, Materno: GARRIDO, Horas ex.: 1, Sueldo Base: 9850, Ingreso: 2020\n",
            "Sueldo Resultante:  10145.5\n",
            "\n",
            "Numero de empleado: 5345, Nombre: JESUS, Paterno: MARTIN, Materno: SANTOS, Horas ex.: 2, Sueldo Base: 9850, Ingreso: 2016\n",
            "Sueldo Resultante:  11327.5\n",
            "\n",
            "Numero de empleado: 3267, Nombre: DAVID, Paterno: JIMENEZ, Materno: LOZANO, Horas ex.: 2, Sueldo Base: 9850, Ingreso: 2017\n",
            "Sueldo Resultante:  11032.0\n",
            "\n",
            "Numero de empleado: 8765, Nombre: PEDRO, Paterno: RUIZ, Materno: GUERRERO, Horas ex.: 2, Sueldo Base: 9850, Ingreso: 2017\n",
            "Sueldo Resultante:  11032.0\n",
            "\n",
            "Numero de empleado: 5454, Nombre: DANIEL, Paterno: HERNANDEZ, Materno: CANO, Horas ex.: 3, Sueldo Base: 9850, Ingreso: 2018\n",
            "Sueldo Resultante:  10736.5\n",
            "\n",
            "Numero de empleado: 3456, Nombre: ALEJANDRO, Paterno: DIAZ, Materno: PRIETO, Horas ex.: 2, Sueldo Base: 9850, Ingreso: 2018\n",
            "Sueldo Resultante:  10736.5\n",
            "\n",
            "Numero de empleado: 3445, Nombre: MARIA, Paterno: MORENO, Materno: MENDEZ, Horas ex.: 1, Sueldo Base: 9850, Ingreso: 2018\n",
            "Sueldo Resultante:  10736.5\n",
            "\n",
            "Numero de empleado: 9088, Nombre: ALBERTO, Paterno: MU�OZ, Materno: CRUZ, Horas ex.: 1, Sueldo Base: 9850, Ingreso: 2017\n",
            "Sueldo Resultante:  11032.0\n",
            "\n",
            "Numero de empleado: 8877, Nombre: RAFAEL, Paterno: ALVAREZ, Materno: FLORES, Horas ex.: 2, Sueldo Base: 9850, Ingreso: 2017\n",
            "Sueldo Resultante:  11032.0\n",
            "\n",
            "Numero de empleado: 6767, Nombre: FERNANDO, Paterno: ROMERO, Materno: HERRERA, Horas ex.: 4, Sueldo Base: 9850, Ingreso: 2019\n",
            "Sueldo Resultante:  10441.0\n",
            "\n",
            "Numero de empleado: 5654, Nombre: PABLO, Paterno: ALONSO, Materno: GALLEGO, Horas ex.: 1, Sueldo Base: 9850, Ingreso: 2019\n",
            "Sueldo Resultante:  10441.0\n",
            "\n",
            "Numero de empleado: 4323, Nombre: JORGE, Paterno: GUTIERREZ, Materno: MARQUEZ, Horas ex.: 2, Sueldo Base: 9850, Ingreso: 2020\n",
            "Sueldo Resultante:  10145.5\n",
            "\n",
            "Numero de empleado: 2232, Nombre: RAMON, Paterno: NAVARRO, Materno: LEON, Horas ex.: 1, Sueldo Base: 9850, Ingreso: 2016\n",
            "Sueldo Resultante:  11327.5\n",
            "\n",
            "\n",
            "-.-.-.-.-.El trabajador mas nuevo es:-.-.-..-.-.-.-\n",
            "Numero de empleado: 5754, Nombre: ANGEL, Paterno: GOMEZ, Materno: GARRIDO, Horas ex.: 1, Sueldo Base: 9850, Ingreso: 2020\n",
            "Numero de empleado: 4323, Nombre: JORGE, Paterno: GUTIERREZ, Materno: MARQUEZ, Horas ex.: 2, Sueldo Base: 9850, Ingreso: 2020\n",
            "\n",
            "-.-.-.-.-.El trabajador mas longevo es:-.-.-..-.-.-.-\n",
            "Numero de empleado: 5345, Nombre: JESUS, Paterno: MARTIN, Materno: SANTOS, Horas ex.: 2, Sueldo Base: 9850, Ingreso: 2016\n",
            "Numero de empleado: 2232, Nombre: RAMON, Paterno: NAVARRO, Materno: LEON, Horas ex.: 1, Sueldo Base: 9850, Ingreso: 2016\n"
          ]
        }
      ]
    },
    {
      "cell_type": "code",
      "metadata": {
        "id": "3HpsfQw0qJ4r"
      },
      "source": [
        ""
      ],
      "execution_count": null,
      "outputs": []
    }
  ]
}